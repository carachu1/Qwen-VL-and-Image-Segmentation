{
 "cells": [
  {
   "cell_type": "code",
   "execution_count": 1,
   "metadata": {},
   "outputs": [
    {
     "name": "stdout",
     "output_type": "stream",
     "text": [
      "Data modification complete.\n"
     ]
    }
   ],
   "source": [
    "import json\n",
    "from collections import OrderedDict\n",
    "\n",
    "# Load the original JSON data from a file\n",
    "with open('/hpc2hdd/home/cguo847/Qwen-VL/finetune/grounding_dino+sam.json', 'r') as f:\n",
    "    data = json.load(f)\n",
    "\n",
    "# Create a new list to hold the modified data\n",
    "new_data = []\n",
    "\n",
    "# Process each entry in the data\n",
    "for entry in data:\n",
    "    # Create an ordered dictionary for the new entry\n",
    "    new_entry = OrderedDict()\n",
    "    \n",
    "    # Add the 'id' key first\n",
    "    new_entry['id'] = entry.pop('unique_id')\n",
    "    \n",
    "    # Remove unwanted keys\n",
    "    del entry['image_id']\n",
    "    del entry['data_source']\n",
    "    \n",
    "    # Modify the image path\n",
    "    entry[\"image\"] = f\"/hpc2hdd/home/cguo847/train2017/{entry['image']}\"\n",
    "    \n",
    "    # Iterate over conversations and modify specific messages\n",
    "    for i, conversation in enumerate(entry['conversations']):\n",
    "        if conversation['from'] == 'gpt':\n",
    "            conversation['from'] = 'assistant'\n",
    "            if 'actions' in conversation and conversation['actions']:\n",
    "                conversation['value'] = f\"<gsam>{conversation['actions'][0]['API_params']['caption']}</gsam>\"\n",
    "                del conversation['thoughts']\n",
    "                del conversation['actions']\n",
    "            elif 'thoughts' in conversation:\n",
    "                del conversation['thoughts']\n",
    "                del conversation['actions']\n",
    "        elif conversation['from'] == 'human' and '\\n<image>' in conversation['value']:\n",
    "            # Swap the position of '<image>' and '\\n'\n",
    "            parts = conversation['value'].split('\\n', 1)\n",
    "            new_value = f\"Picture 1: <img>{entry['image']}</img>\\n{parts[0]}\"\n",
    "            conversation['value'] = new_value\n",
    "        elif conversation['from'] == 'human' and i == 0:\n",
    "            parts = conversation['value'].split('\\n', 1)\n",
    "            new_value = f\"Picture 1: <img>{entry['image']}</img>\\n{parts[1]}\"\n",
    "            conversation['value'] = new_value\n",
    "\n",
    "        if conversation['from'] == 'human':\n",
    "            conversation['from'] = 'user'\n",
    "\n",
    "\n",
    "    # Add the 'conversations' key after 'id'\n",
    "    new_entry['conversations'] = entry['conversations']\n",
    "    \n",
    "    # Add the 'image' key last\n",
    "    new_entry['image'] = entry['image']\n",
    "\n",
    "    # Remove the 'image' key from new_entry\n",
    "    del new_entry['image']\n",
    "    \n",
    "    # Append the new entry to the new data list\n",
    "    new_data.append(new_entry)\n",
    "\n",
    "# Save the modified data to a new JSON file\n",
    "with open('converted_data.json', 'w', encoding='utf-8') as f:\n",
    "    json.dump(new_data, f, indent=2, ensure_ascii=False)\n",
    "\n",
    "print(\"Data modification complete.\")"
   ]
  }
 ],
 "metadata": {
  "kernelspec": {
   "display_name": "Python 3.10.14 ('ai': conda)",
   "language": "python",
   "name": "python3"
  },
  "language_info": {
   "codemirror_mode": {
    "name": "ipython",
    "version": 3
   },
   "file_extension": ".py",
   "mimetype": "text/x-python",
   "name": "python",
   "nbconvert_exporter": "python",
   "pygments_lexer": "ipython3",
   "version": "3.10.14"
  },
  "orig_nbformat": 4,
  "vscode": {
   "interpreter": {
    "hash": "177687bc4b736d8c6c3d876d1cfeb11bfce8cc987d99b9b887dc3ab4ce253457"
   }
  }
 },
 "nbformat": 4,
 "nbformat_minor": 2
}
